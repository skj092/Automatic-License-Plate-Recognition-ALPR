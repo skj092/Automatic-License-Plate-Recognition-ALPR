{
  "nbformat": 4,
  "nbformat_minor": 0,
  "metadata": {
    "colab": {
      "provenance": [],
      "collapsed_sections": [
        "j2Cw2qn0mDQS",
        "dAP_Jy2Bc547",
        "rqPdtC8LeDf8"
      ],
      "mount_file_id": "https://github.com/skj092/Sefty_Helmet_Detection/blob/main/Seftyhelmet_detection_yolo.ipynb",
      "authorship_tag": "ABX9TyMPVyZUtkTo6FWiJyOLFUMs",
      "include_colab_link": true
    },
    "kernelspec": {
      "name": "python3",
      "display_name": "Python 3"
    },
    "language_info": {
      "name": "python"
    },
    "accelerator": "GPU"
  },
  "cells": [
    {
      "cell_type": "markdown",
      "metadata": {
        "id": "view-in-github",
        "colab_type": "text"
      },
      "source": [
        "<a href=\"https://colab.research.google.com/github/skj092/Automatic-License-Plate-Recognition-ALPR-/blob/main/ALPR.ipynb\" target=\"_parent\"><img src=\"https://colab.research.google.com/assets/colab-badge.svg\" alt=\"Open In Colab\"/></a>"
      ]
    },
    {
      "cell_type": "markdown",
      "source": [
        "# Automatic Licence Plate Recognitioon\n",
        "\n"
      ],
      "metadata": {
        "id": "McjhtzCclm-u"
      }
    },
    {
      "cell_type": "markdown",
      "source": [
        "## Cloning the yolov5 repository"
      ],
      "metadata": {
        "id": "odVkp3csluap"
      }
    },
    {
      "cell_type": "code",
      "source": [
        "!git clone https://github.com/ultralytics/yolov5.git"
      ],
      "metadata": {
        "colab": {
          "base_uri": "https://localhost:8080/"
        },
        "id": "Ecy1xgx9aXnu",
        "outputId": "eb62f9d1-1d21-495b-c4d2-a7502c5e3a4f"
      },
      "execution_count": 1,
      "outputs": [
        {
          "output_type": "stream",
          "name": "stdout",
          "text": [
            "Cloning into 'yolov5'...\n",
            "remote: Enumerating objects: 13687, done.\u001b[K\n",
            "remote: Counting objects: 100% (489/489), done.\u001b[K\n",
            "remote: Compressing objects: 100% (177/177), done.\u001b[K\n",
            "remote: Total 13687 (delta 354), reused 438 (delta 312), pack-reused 13198\u001b[K\n",
            "Receiving objects: 100% (13687/13687), 13.22 MiB | 8.41 MiB/s, done.\n",
            "Resolving deltas: 100% (9415/9415), done.\n"
          ]
        }
      ]
    },
    {
      "cell_type": "markdown",
      "source": [
        "## Settin up Directory structure for the YOLO"
      ],
      "metadata": {
        "id": "cn6pM1lqlzM_"
      }
    },
    {
      "cell_type": "markdown",
      "source": [
        "## Downloading dataset using kaggle api"
      ],
      "metadata": {
        "id": "wXh9lvZ_l4d5"
      }
    },
    {
      "cell_type": "code",
      "source": [
        "from google.colab import files\n",
        "file = files.upload()"
      ],
      "metadata": {
        "id": "ls9ImsMLkDvf",
        "outputId": "a991a534-94cd-4f32-ec4f-ea1d479e1039",
        "colab": {
          "base_uri": "https://localhost:8080/",
          "height": 73
        }
      },
      "execution_count": 2,
      "outputs": [
        {
          "output_type": "display_data",
          "data": {
            "text/plain": [
              "<IPython.core.display.HTML object>"
            ],
            "text/html": [
              "\n",
              "     <input type=\"file\" id=\"files-335de6f2-eecb-42bc-a51f-a68111494cb0\" name=\"files[]\" multiple disabled\n",
              "        style=\"border:none\" />\n",
              "     <output id=\"result-335de6f2-eecb-42bc-a51f-a68111494cb0\">\n",
              "      Upload widget is only available when the cell has been executed in the\n",
              "      current browser session. Please rerun this cell to enable.\n",
              "      </output>\n",
              "      <script>// Copyright 2017 Google LLC\n",
              "//\n",
              "// Licensed under the Apache License, Version 2.0 (the \"License\");\n",
              "// you may not use this file except in compliance with the License.\n",
              "// You may obtain a copy of the License at\n",
              "//\n",
              "//      http://www.apache.org/licenses/LICENSE-2.0\n",
              "//\n",
              "// Unless required by applicable law or agreed to in writing, software\n",
              "// distributed under the License is distributed on an \"AS IS\" BASIS,\n",
              "// WITHOUT WARRANTIES OR CONDITIONS OF ANY KIND, either express or implied.\n",
              "// See the License for the specific language governing permissions and\n",
              "// limitations under the License.\n",
              "\n",
              "/**\n",
              " * @fileoverview Helpers for google.colab Python module.\n",
              " */\n",
              "(function(scope) {\n",
              "function span(text, styleAttributes = {}) {\n",
              "  const element = document.createElement('span');\n",
              "  element.textContent = text;\n",
              "  for (const key of Object.keys(styleAttributes)) {\n",
              "    element.style[key] = styleAttributes[key];\n",
              "  }\n",
              "  return element;\n",
              "}\n",
              "\n",
              "// Max number of bytes which will be uploaded at a time.\n",
              "const MAX_PAYLOAD_SIZE = 100 * 1024;\n",
              "\n",
              "function _uploadFiles(inputId, outputId) {\n",
              "  const steps = uploadFilesStep(inputId, outputId);\n",
              "  const outputElement = document.getElementById(outputId);\n",
              "  // Cache steps on the outputElement to make it available for the next call\n",
              "  // to uploadFilesContinue from Python.\n",
              "  outputElement.steps = steps;\n",
              "\n",
              "  return _uploadFilesContinue(outputId);\n",
              "}\n",
              "\n",
              "// This is roughly an async generator (not supported in the browser yet),\n",
              "// where there are multiple asynchronous steps and the Python side is going\n",
              "// to poll for completion of each step.\n",
              "// This uses a Promise to block the python side on completion of each step,\n",
              "// then passes the result of the previous step as the input to the next step.\n",
              "function _uploadFilesContinue(outputId) {\n",
              "  const outputElement = document.getElementById(outputId);\n",
              "  const steps = outputElement.steps;\n",
              "\n",
              "  const next = steps.next(outputElement.lastPromiseValue);\n",
              "  return Promise.resolve(next.value.promise).then((value) => {\n",
              "    // Cache the last promise value to make it available to the next\n",
              "    // step of the generator.\n",
              "    outputElement.lastPromiseValue = value;\n",
              "    return next.value.response;\n",
              "  });\n",
              "}\n",
              "\n",
              "/**\n",
              " * Generator function which is called between each async step of the upload\n",
              " * process.\n",
              " * @param {string} inputId Element ID of the input file picker element.\n",
              " * @param {string} outputId Element ID of the output display.\n",
              " * @return {!Iterable<!Object>} Iterable of next steps.\n",
              " */\n",
              "function* uploadFilesStep(inputId, outputId) {\n",
              "  const inputElement = document.getElementById(inputId);\n",
              "  inputElement.disabled = false;\n",
              "\n",
              "  const outputElement = document.getElementById(outputId);\n",
              "  outputElement.innerHTML = '';\n",
              "\n",
              "  const pickedPromise = new Promise((resolve) => {\n",
              "    inputElement.addEventListener('change', (e) => {\n",
              "      resolve(e.target.files);\n",
              "    });\n",
              "  });\n",
              "\n",
              "  const cancel = document.createElement('button');\n",
              "  inputElement.parentElement.appendChild(cancel);\n",
              "  cancel.textContent = 'Cancel upload';\n",
              "  const cancelPromise = new Promise((resolve) => {\n",
              "    cancel.onclick = () => {\n",
              "      resolve(null);\n",
              "    };\n",
              "  });\n",
              "\n",
              "  // Wait for the user to pick the files.\n",
              "  const files = yield {\n",
              "    promise: Promise.race([pickedPromise, cancelPromise]),\n",
              "    response: {\n",
              "      action: 'starting',\n",
              "    }\n",
              "  };\n",
              "\n",
              "  cancel.remove();\n",
              "\n",
              "  // Disable the input element since further picks are not allowed.\n",
              "  inputElement.disabled = true;\n",
              "\n",
              "  if (!files) {\n",
              "    return {\n",
              "      response: {\n",
              "        action: 'complete',\n",
              "      }\n",
              "    };\n",
              "  }\n",
              "\n",
              "  for (const file of files) {\n",
              "    const li = document.createElement('li');\n",
              "    li.append(span(file.name, {fontWeight: 'bold'}));\n",
              "    li.append(span(\n",
              "        `(${file.type || 'n/a'}) - ${file.size} bytes, ` +\n",
              "        `last modified: ${\n",
              "            file.lastModifiedDate ? file.lastModifiedDate.toLocaleDateString() :\n",
              "                                    'n/a'} - `));\n",
              "    const percent = span('0% done');\n",
              "    li.appendChild(percent);\n",
              "\n",
              "    outputElement.appendChild(li);\n",
              "\n",
              "    const fileDataPromise = new Promise((resolve) => {\n",
              "      const reader = new FileReader();\n",
              "      reader.onload = (e) => {\n",
              "        resolve(e.target.result);\n",
              "      };\n",
              "      reader.readAsArrayBuffer(file);\n",
              "    });\n",
              "    // Wait for the data to be ready.\n",
              "    let fileData = yield {\n",
              "      promise: fileDataPromise,\n",
              "      response: {\n",
              "        action: 'continue',\n",
              "      }\n",
              "    };\n",
              "\n",
              "    // Use a chunked sending to avoid message size limits. See b/62115660.\n",
              "    let position = 0;\n",
              "    do {\n",
              "      const length = Math.min(fileData.byteLength - position, MAX_PAYLOAD_SIZE);\n",
              "      const chunk = new Uint8Array(fileData, position, length);\n",
              "      position += length;\n",
              "\n",
              "      const base64 = btoa(String.fromCharCode.apply(null, chunk));\n",
              "      yield {\n",
              "        response: {\n",
              "          action: 'append',\n",
              "          file: file.name,\n",
              "          data: base64,\n",
              "        },\n",
              "      };\n",
              "\n",
              "      let percentDone = fileData.byteLength === 0 ?\n",
              "          100 :\n",
              "          Math.round((position / fileData.byteLength) * 100);\n",
              "      percent.textContent = `${percentDone}% done`;\n",
              "\n",
              "    } while (position < fileData.byteLength);\n",
              "  }\n",
              "\n",
              "  // All done.\n",
              "  yield {\n",
              "    response: {\n",
              "      action: 'complete',\n",
              "    }\n",
              "  };\n",
              "}\n",
              "\n",
              "scope.google = scope.google || {};\n",
              "scope.google.colab = scope.google.colab || {};\n",
              "scope.google.colab._files = {\n",
              "  _uploadFiles,\n",
              "  _uploadFilesContinue,\n",
              "};\n",
              "})(self);\n",
              "</script> "
            ]
          },
          "metadata": {}
        },
        {
          "output_type": "stream",
          "name": "stdout",
          "text": [
            "Saving kaggle.json to kaggle.json\n"
          ]
        }
      ]
    },
    {
      "cell_type": "code",
      "source": [
        "!mkdir ../../root/.kaggle/"
      ],
      "metadata": {
        "id": "BUxax-tdkN4A"
      },
      "execution_count": 3,
      "outputs": []
    },
    {
      "cell_type": "code",
      "source": [
        "!cp kaggle.json ../../root/.kaggle"
      ],
      "metadata": {
        "id": "66mPtK1fkNSk"
      },
      "execution_count": 4,
      "outputs": []
    },
    {
      "cell_type": "code",
      "source": [
        "!chmod 600 /root/.kaggle/kaggle.json"
      ],
      "metadata": {
        "id": "GdX53N86fmwV"
      },
      "execution_count": 5,
      "outputs": []
    },
    {
      "cell_type": "code",
      "source": [
        "!kaggle datasets download -d sonujha090/automatic-license-plate-recognition-alpr"
      ],
      "metadata": {
        "colab": {
          "base_uri": "https://localhost:8080/"
        },
        "id": "4Z7hFyiMYoDQ",
        "outputId": "2ff5f03f-ca23-4e70-9dd9-efcdc417cf5c"
      },
      "execution_count": 6,
      "outputs": [
        {
          "output_type": "stream",
          "name": "stdout",
          "text": [
            "Downloading automatic-license-plate-recognition-alpr.zip to /content\n",
            " 98% 537M/547M [00:16<00:00, 39.8MB/s]\n",
            "100% 547M/547M [00:16<00:00, 35.5MB/s]\n"
          ]
        }
      ]
    },
    {
      "cell_type": "code",
      "source": [
        "import os \n",
        "\n",
        "if not os.path.exists(\"Dataset\"):\n",
        "  os.mkdir(\"Dataset\")"
      ],
      "metadata": {
        "id": "juh_bAyoEvc-"
      },
      "execution_count": 7,
      "outputs": []
    },
    {
      "cell_type": "code",
      "source": [
        "!unzip automatic-license-plate-recognition-alpr.zip -d \"Dataset\""
      ],
      "metadata": {
        "id": "4NiOosUgY0D3"
      },
      "execution_count": null,
      "outputs": []
    },
    {
      "cell_type": "markdown",
      "source": [
        "# Dividing the data into training and testing sets"
      ],
      "metadata": {
        "id": "7cv6nLeNFHUN"
      }
    },
    {
      "cell_type": "markdown",
      "source": [
        "## Preparing training setup"
      ],
      "metadata": {
        "id": "fToBrHVdl9rA"
      }
    },
    {
      "cell_type": "code",
      "source": [
        "cd yolov5"
      ],
      "metadata": {
        "colab": {
          "base_uri": "https://localhost:8080/"
        },
        "id": "GqYLbnZvZCVT",
        "outputId": "9af4f4ab-7244-44d5-827f-79d28d3b22ac"
      },
      "execution_count": 9,
      "outputs": [
        {
          "output_type": "stream",
          "name": "stdout",
          "text": [
            "/content/yolov5\n"
          ]
        }
      ]
    },
    {
      "cell_type": "code",
      "source": [
        "!touch config.yaml"
      ],
      "metadata": {
        "id": "OELoJbmHk3MH"
      },
      "execution_count": 10,
      "outputs": []
    },
    {
      "cell_type": "code",
      "source": [
        "# train: /content/Dataset/obj/train\n",
        "# val: /content/Dataset/obj/validation\n",
        "# nc: 1\n",
        "# names: [\"licence plate\"]"
      ],
      "metadata": {
        "id": "IE2Pr4epk3u_"
      },
      "execution_count": 11,
      "outputs": []
    },
    {
      "cell_type": "code",
      "source": [
        "!python train.py --img 400 --batch 16  --epochs 50 --data config.yaml "
      ],
      "metadata": {
        "colab": {
          "base_uri": "https://localhost:8080/"
        },
        "id": "rJY3IlaeZJUe",
        "outputId": "08512121-b634-4c26-bdca-693060cd0f26"
      },
      "execution_count": 12,
      "outputs": [
        {
          "output_type": "stream",
          "name": "stdout",
          "text": [
            "\u001b[34m\u001b[1mtrain: \u001b[0mweights=yolov5s.pt, cfg=, data=config.yaml, hyp=data/hyps/hyp.scratch-low.yaml, epochs=50, batch_size=16, imgsz=400, rect=False, resume=False, nosave=False, noval=False, noautoanchor=False, noplots=False, evolve=None, bucket=, cache=None, image_weights=False, device=, multi_scale=False, single_cls=False, optimizer=SGD, sync_bn=False, workers=8, project=runs/train, name=exp, exist_ok=False, quad=False, cos_lr=False, label_smoothing=0.0, patience=100, freeze=[0], save_period=-1, seed=0, local_rank=-1, entity=None, upload_dataset=False, bbox_interval=-1, artifact_alias=latest\n",
            "\u001b[34m\u001b[1mgithub: \u001b[0mup to date with https://github.com/ultralytics/yolov5 ✅\n",
            "\u001b[31m\u001b[1mrequirements:\u001b[0m YOLOv5 requirements \"ipython\" \"thop>=0.1.1\" not found, attempting AutoUpdate...\n",
            "Looking in indexes: https://pypi.org/simple, https://us-python.pkg.dev/colab-wheels/public/simple/\n",
            "Requirement already satisfied: ipython in /usr/local/lib/python3.7/dist-packages (7.9.0)\n",
            "Collecting thop>=0.1.1\n",
            "  Downloading thop-0.1.1.post2209072238-py3-none-any.whl (15 kB)\n",
            "Requirement already satisfied: torch in /usr/local/lib/python3.7/dist-packages (from thop>=0.1.1) (1.12.1+cu113)\n",
            "Collecting jedi>=0.10\n",
            "  Downloading jedi-0.18.1-py2.py3-none-any.whl (1.6 MB)\n",
            "Requirement already satisfied: pygments in /usr/local/lib/python3.7/dist-packages (from ipython) (2.6.1)\n",
            "Requirement already satisfied: pickleshare in /usr/local/lib/python3.7/dist-packages (from ipython) (0.7.5)\n",
            "Requirement already satisfied: pexpect in /usr/local/lib/python3.7/dist-packages (from ipython) (4.8.0)\n",
            "Requirement already satisfied: decorator in /usr/local/lib/python3.7/dist-packages (from ipython) (4.4.2)\n",
            "Requirement already satisfied: traitlets>=4.2 in /usr/local/lib/python3.7/dist-packages (from ipython) (5.1.1)\n",
            "Requirement already satisfied: backcall in /usr/local/lib/python3.7/dist-packages (from ipython) (0.2.0)\n",
            "Requirement already satisfied: setuptools>=18.5 in /usr/local/lib/python3.7/dist-packages (from ipython) (57.4.0)\n",
            "Requirement already satisfied: prompt-toolkit<2.1.0,>=2.0.0 in /usr/local/lib/python3.7/dist-packages (from ipython) (2.0.10)\n",
            "Requirement already satisfied: parso<0.9.0,>=0.8.0 in /usr/local/lib/python3.7/dist-packages (from jedi>=0.10->ipython) (0.8.3)\n",
            "Requirement already satisfied: six>=1.9.0 in /usr/local/lib/python3.7/dist-packages (from prompt-toolkit<2.1.0,>=2.0.0->ipython) (1.15.0)\n",
            "Requirement already satisfied: wcwidth in /usr/local/lib/python3.7/dist-packages (from prompt-toolkit<2.1.0,>=2.0.0->ipython) (0.2.5)\n",
            "Requirement already satisfied: ptyprocess>=0.5 in /usr/local/lib/python3.7/dist-packages (from pexpect->ipython) (0.7.0)\n",
            "Requirement already satisfied: typing-extensions in /usr/local/lib/python3.7/dist-packages (from torch->thop>=0.1.1) (4.1.1)\n",
            "Installing collected packages: jedi, thop\n",
            "Successfully installed jedi-0.18.1 thop-0.1.1.post2209072238\n",
            "\n",
            "\u001b[31m\u001b[1mrequirements:\u001b[0m 2 packages updated per /content/yolov5/requirements.txt\n",
            "\u001b[31m\u001b[1mrequirements:\u001b[0m ⚠️ \u001b[1mRestart runtime or rerun command for updates to take effect\u001b[0m\n",
            "\n",
            "YOLOv5 🚀 v6.2-187-g5ef69ef Python-3.7.14 torch-1.12.1+cu113 CUDA:0 (Tesla T4, 15110MiB)\n",
            "\n",
            "\u001b[34m\u001b[1mhyperparameters: \u001b[0mlr0=0.01, lrf=0.01, momentum=0.937, weight_decay=0.0005, warmup_epochs=3.0, warmup_momentum=0.8, warmup_bias_lr=0.1, box=0.05, cls=0.5, cls_pw=1.0, obj=1.0, obj_pw=1.0, iou_t=0.2, anchor_t=4.0, fl_gamma=0.0, hsv_h=0.015, hsv_s=0.7, hsv_v=0.4, degrees=0.0, translate=0.1, scale=0.5, shear=0.0, perspective=0.0, flipud=0.0, fliplr=0.5, mosaic=1.0, mixup=0.0, copy_paste=0.0\n",
            "\u001b[34m\u001b[1mWeights & Biases: \u001b[0mrun 'pip install wandb' to automatically track and visualize YOLOv5 🚀 runs in Weights & Biases\n",
            "\u001b[34m\u001b[1mClearML: \u001b[0mrun 'pip install clearml' to automatically track, visualize and remotely train YOLOv5 🚀 in ClearML\n",
            "\u001b[34m\u001b[1mComet: \u001b[0mrun 'pip install comet_ml' to automatically track and visualize YOLOv5 🚀 runs in Comet\n",
            "\u001b[34m\u001b[1mTensorBoard: \u001b[0mStart with 'tensorboard --logdir runs/train', view at http://localhost:6006/\n",
            "Downloading https://ultralytics.com/assets/Arial.ttf to /root/.config/Ultralytics/Arial.ttf...\n",
            "100% 755k/755k [00:00<00:00, 47.8MB/s]\n",
            "Downloading https://github.com/ultralytics/yolov5/releases/download/v6.2/yolov5s.pt to yolov5s.pt...\n",
            "100% 14.1M/14.1M [00:00<00:00, 280MB/s]\n",
            "\n",
            "Overriding model.yaml nc=80 with nc=1\n",
            "\n",
            "                 from  n    params  module                                  arguments                     \n",
            "  0                -1  1      3520  models.common.Conv                      [3, 32, 6, 2, 2]              \n",
            "  1                -1  1     18560  models.common.Conv                      [32, 64, 3, 2]                \n",
            "  2                -1  1     18816  models.common.C3                        [64, 64, 1]                   \n",
            "  3                -1  1     73984  models.common.Conv                      [64, 128, 3, 2]               \n",
            "  4                -1  2    115712  models.common.C3                        [128, 128, 2]                 \n",
            "  5                -1  1    295424  models.common.Conv                      [128, 256, 3, 2]              \n",
            "  6                -1  3    625152  models.common.C3                        [256, 256, 3]                 \n",
            "  7                -1  1   1180672  models.common.Conv                      [256, 512, 3, 2]              \n",
            "  8                -1  1   1182720  models.common.C3                        [512, 512, 1]                 \n",
            "  9                -1  1    656896  models.common.SPPF                      [512, 512, 5]                 \n",
            " 10                -1  1    131584  models.common.Conv                      [512, 256, 1, 1]              \n",
            " 11                -1  1         0  torch.nn.modules.upsampling.Upsample    [None, 2, 'nearest']          \n",
            " 12           [-1, 6]  1         0  models.common.Concat                    [1]                           \n",
            " 13                -1  1    361984  models.common.C3                        [512, 256, 1, False]          \n",
            " 14                -1  1     33024  models.common.Conv                      [256, 128, 1, 1]              \n",
            " 15                -1  1         0  torch.nn.modules.upsampling.Upsample    [None, 2, 'nearest']          \n",
            " 16           [-1, 4]  1         0  models.common.Concat                    [1]                           \n",
            " 17                -1  1     90880  models.common.C3                        [256, 128, 1, False]          \n",
            " 18                -1  1    147712  models.common.Conv                      [128, 128, 3, 2]              \n",
            " 19          [-1, 14]  1         0  models.common.Concat                    [1]                           \n",
            " 20                -1  1    296448  models.common.C3                        [256, 256, 1, False]          \n",
            " 21                -1  1    590336  models.common.Conv                      [256, 256, 3, 2]              \n",
            " 22          [-1, 10]  1         0  models.common.Concat                    [1]                           \n",
            " 23                -1  1   1182720  models.common.C3                        [512, 512, 1, False]          \n",
            " 24      [17, 20, 23]  1     16182  models.yolo.Detect                      [1, [[10, 13, 16, 30, 33, 23], [30, 61, 62, 45, 59, 119], [116, 90, 156, 198, 373, 326]], [128, 256, 512]]\n",
            "Model summary: 214 layers, 7022326 parameters, 7022326 gradients\n",
            "\n",
            "Transferred 343/349 items from yolov5s.pt\n",
            "\u001b[34m\u001b[1mAMP: \u001b[0mchecks passed ✅\n",
            "WARNING ⚠️ --img-size 400 must be multiple of max stride 32, updating to 416\n",
            "\u001b[34m\u001b[1moptimizer:\u001b[0m SGD(lr=0.01) with parameter groups 57 weight(decay=0.0), 60 weight(decay=0.0005), 60 bias\n",
            "\u001b[34m\u001b[1malbumentations: \u001b[0mBlur(p=0.01, blur_limit=(3, 7)), MedianBlur(p=0.01, blur_limit=(3, 7)), ToGray(p=0.01), CLAHE(p=0.01, clip_limit=(1, 4.0), tile_grid_size=(8, 8))\n",
            "\u001b[34m\u001b[1mtrain: \u001b[0mScanning '/content/Dataset/obj/train' images and labels...1500 found, 0 missing, 0 empty, 0 corrupt: 100% 1500/1500 [00:00<00:00, 2073.83it/s]\n",
            "\u001b[34m\u001b[1mtrain: \u001b[0mNew cache created: /content/Dataset/obj/train.cache\n",
            "\u001b[34m\u001b[1mval: \u001b[0mScanning '/content/Dataset/obj/validation' images and labels...300 found, 0 missing, 0 empty, 0 corrupt: 100% 300/300 [00:00<00:00, 899.44it/s]\n",
            "\u001b[34m\u001b[1mval: \u001b[0mNew cache created: /content/Dataset/obj/validation.cache\n",
            "\n",
            "\u001b[34m\u001b[1mAutoAnchor: \u001b[0m2.94 anchors/target, 0.935 Best Possible Recall (BPR). Anchors are a poor fit to dataset ⚠️, attempting to improve...\n",
            "\u001b[34m\u001b[1mAutoAnchor: \u001b[0mWARNING ⚠️ Extremely small objects found: 122 of 2240 labels are <3 pixels in size\n",
            "\u001b[34m\u001b[1mAutoAnchor: \u001b[0mRunning kmeans for 9 anchors on 2240 points...\n",
            "\u001b[34m\u001b[1mAutoAnchor: \u001b[0mEvolving anchors with Genetic Algorithm: fitness = 0.7452: 100% 1000/1000 [00:02<00:00, 389.82it/s]\n",
            "\u001b[34m\u001b[1mAutoAnchor: \u001b[0mthr=0.25: 0.9991 best possible recall, 4.46 anchors past thr\n",
            "\u001b[34m\u001b[1mAutoAnchor: \u001b[0mn=9, img_size=416, metric_all=0.310/0.745-mean/best, past_thr=0.507-mean: 9,4, 14,6, 24,11, 36,24, 54,17, 66,34, 114,57, 214,111, 326,174\n",
            "\u001b[34m\u001b[1mAutoAnchor: \u001b[0mDone ✅ (optional: update model *.yaml to use these anchors in the future)\n",
            "Plotting labels to runs/train/exp/labels.jpg... \n",
            "Image sizes 416 train, 416 val\n",
            "Using 2 dataloader workers\n",
            "Logging results to \u001b[1mruns/train/exp\u001b[0m\n",
            "Starting training for 50 epochs...\n",
            "\n",
            "      Epoch    GPU_mem   box_loss   obj_loss   cls_loss  Instances       Size\n",
            "       0/49      1.65G     0.1385    0.01387          0         35        416:   0% 0/94 [00:01<?, ?it/s]WARNING ⚠️ TensorBoard graph visualization failure Sizes of tensors must match except in dimension 1. Expected size 26 but got size 25 for tensor number 1 in the list.\n",
            "       0/49      1.69G     0.1195    0.01385          0         30        416: 100% 94/94 [01:15<00:00,  1.25it/s]\n",
            "                 Class     Images  Instances          P          R      mAP50   mAP50-95: 100% 10/10 [00:06<00:00,  1.45it/s]\n",
            "                   all        300        405       0.07     0.0765     0.0253    0.00584\n",
            "\n",
            "      Epoch    GPU_mem   box_loss   obj_loss   cls_loss  Instances       Size\n",
            "       1/49      2.08G      0.084    0.01442          0         36        416: 100% 94/94 [01:12<00:00,  1.29it/s]\n",
            "                 Class     Images  Instances          P          R      mAP50   mAP50-95: 100% 10/10 [00:07<00:00,  1.38it/s]\n",
            "                   all        300        405      0.491      0.489      0.402      0.139\n",
            "\n",
            "      Epoch    GPU_mem   box_loss   obj_loss   cls_loss  Instances       Size\n",
            "       2/49      2.08G    0.06928    0.01295          0         23        416: 100% 94/94 [01:12<00:00,  1.30it/s]\n",
            "                 Class     Images  Instances          P          R      mAP50   mAP50-95: 100% 10/10 [00:06<00:00,  1.46it/s]\n",
            "                   all        300        405      0.712      0.541      0.632      0.275\n",
            "\n",
            "      Epoch    GPU_mem   box_loss   obj_loss   cls_loss  Instances       Size\n",
            "       3/49      2.08G    0.06228    0.01234          0         19        416: 100% 94/94 [01:12<00:00,  1.29it/s]\n",
            "                 Class     Images  Instances          P          R      mAP50   mAP50-95: 100% 10/10 [00:06<00:00,  1.52it/s]\n",
            "                   all        300        405      0.753      0.631      0.654      0.251\n",
            "\n",
            "      Epoch    GPU_mem   box_loss   obj_loss   cls_loss  Instances       Size\n",
            "       4/49      2.08G    0.05851    0.01073          0         26        416: 100% 94/94 [01:11<00:00,  1.31it/s]\n",
            "                 Class     Images  Instances          P          R      mAP50   mAP50-95: 100% 10/10 [00:06<00:00,  1.46it/s]\n",
            "                   all        300        405      0.854      0.693      0.749       0.37\n",
            "\n",
            "      Epoch    GPU_mem   box_loss   obj_loss   cls_loss  Instances       Size\n",
            "       5/49      2.08G     0.0547       0.01          0         25        416: 100% 94/94 [01:11<00:00,  1.31it/s]\n",
            "                 Class     Images  Instances          P          R      mAP50   mAP50-95: 100% 10/10 [00:06<00:00,  1.46it/s]\n",
            "                   all        300        405      0.812      0.672       0.75      0.395\n",
            "\n",
            "      Epoch    GPU_mem   box_loss   obj_loss   cls_loss  Instances       Size\n",
            "       6/49      2.08G    0.05213   0.009556          0         36        416: 100% 94/94 [01:11<00:00,  1.31it/s]\n",
            "                 Class     Images  Instances          P          R      mAP50   mAP50-95: 100% 10/10 [00:06<00:00,  1.62it/s]\n",
            "                   all        300        405      0.839      0.743      0.772      0.395\n",
            "\n",
            "      Epoch    GPU_mem   box_loss   obj_loss   cls_loss  Instances       Size\n",
            "       7/49      2.08G    0.05083    0.00958          0         34        416: 100% 94/94 [01:11<00:00,  1.32it/s]\n",
            "                 Class     Images  Instances          P          R      mAP50   mAP50-95: 100% 10/10 [00:06<00:00,  1.49it/s]\n",
            "                   all        300        405      0.885      0.738      0.785      0.391\n",
            "\n",
            "      Epoch    GPU_mem   box_loss   obj_loss   cls_loss  Instances       Size\n",
            "       8/49      2.08G     0.0486   0.009185          0         31        416: 100% 94/94 [01:11<00:00,  1.32it/s]\n",
            "                 Class     Images  Instances          P          R      mAP50   mAP50-95: 100% 10/10 [00:06<00:00,  1.57it/s]\n",
            "                   all        300        405      0.882      0.739        0.8      0.422\n",
            "\n",
            "      Epoch    GPU_mem   box_loss   obj_loss   cls_loss  Instances       Size\n",
            "       9/49      2.08G     0.0476   0.009119          0         27        416: 100% 94/94 [01:11<00:00,  1.32it/s]\n",
            "                 Class     Images  Instances          P          R      mAP50   mAP50-95: 100% 10/10 [00:06<00:00,  1.47it/s]\n",
            "                   all        300        405      0.865       0.77      0.816      0.407\n",
            "\n",
            "      Epoch    GPU_mem   box_loss   obj_loss   cls_loss  Instances       Size\n",
            "      10/49      2.08G    0.04658   0.008843          0         30        416: 100% 94/94 [01:10<00:00,  1.33it/s]\n",
            "                 Class     Images  Instances          P          R      mAP50   mAP50-95: 100% 10/10 [00:06<00:00,  1.49it/s]\n",
            "                   all        300        405      0.895      0.782      0.819      0.449\n",
            "\n",
            "      Epoch    GPU_mem   box_loss   obj_loss   cls_loss  Instances       Size\n",
            "      11/49      2.08G    0.04547   0.008787          0         18        416: 100% 94/94 [01:11<00:00,  1.31it/s]\n",
            "                 Class     Images  Instances          P          R      mAP50   mAP50-95: 100% 10/10 [00:06<00:00,  1.54it/s]\n",
            "                   all        300        405      0.911      0.773      0.834       0.48\n",
            "\n",
            "      Epoch    GPU_mem   box_loss   obj_loss   cls_loss  Instances       Size\n",
            "      12/49      2.08G    0.04509   0.008679          0         41        416: 100% 94/94 [01:10<00:00,  1.33it/s]\n",
            "                 Class     Images  Instances          P          R      mAP50   mAP50-95: 100% 10/10 [00:06<00:00,  1.52it/s]\n",
            "                   all        300        405      0.907      0.773      0.821      0.502\n",
            "\n",
            "      Epoch    GPU_mem   box_loss   obj_loss   cls_loss  Instances       Size\n",
            "      13/49      2.08G     0.0448   0.008617          0         30        416: 100% 94/94 [01:10<00:00,  1.33it/s]\n",
            "                 Class     Images  Instances          P          R      mAP50   mAP50-95: 100% 10/10 [00:06<00:00,  1.57it/s]\n",
            "                   all        300        405      0.895      0.779       0.82      0.485\n",
            "\n",
            "      Epoch    GPU_mem   box_loss   obj_loss   cls_loss  Instances       Size\n",
            "      14/49      2.08G    0.04418   0.008331          0         24        416: 100% 94/94 [01:11<00:00,  1.32it/s]\n",
            "                 Class     Images  Instances          P          R      mAP50   mAP50-95: 100% 10/10 [00:06<00:00,  1.48it/s]\n",
            "                   all        300        405      0.914      0.765      0.821      0.463\n",
            "\n",
            "      Epoch    GPU_mem   box_loss   obj_loss   cls_loss  Instances       Size\n",
            "      15/49      2.08G    0.04281   0.008204          0         20        416: 100% 94/94 [01:10<00:00,  1.33it/s]\n",
            "                 Class     Images  Instances          P          R      mAP50   mAP50-95: 100% 10/10 [00:06<00:00,  1.49it/s]\n",
            "                   all        300        405      0.884      0.789      0.825      0.498\n",
            "\n",
            "      Epoch    GPU_mem   box_loss   obj_loss   cls_loss  Instances       Size\n",
            "      16/49      2.08G    0.04225   0.008327          0         32        416: 100% 94/94 [01:10<00:00,  1.33it/s]\n",
            "                 Class     Images  Instances          P          R      mAP50   mAP50-95: 100% 10/10 [00:06<00:00,  1.55it/s]\n",
            "                   all        300        405      0.863      0.785      0.832      0.478\n",
            "\n",
            "      Epoch    GPU_mem   box_loss   obj_loss   cls_loss  Instances       Size\n",
            "      17/49      2.08G    0.04228   0.008179          0         34        416: 100% 94/94 [01:10<00:00,  1.32it/s]\n",
            "                 Class     Images  Instances          P          R      mAP50   mAP50-95: 100% 10/10 [00:06<00:00,  1.61it/s]\n",
            "                   all        300        405      0.924      0.788      0.844      0.476\n",
            "\n",
            "      Epoch    GPU_mem   box_loss   obj_loss   cls_loss  Instances       Size\n",
            "      18/49      2.08G    0.04086   0.008195          0         31        416: 100% 94/94 [01:11<00:00,  1.31it/s]\n",
            "                 Class     Images  Instances          P          R      mAP50   mAP50-95: 100% 10/10 [00:06<00:00,  1.50it/s]\n",
            "                   all        300        405      0.892      0.765      0.839      0.514\n",
            "\n",
            "      Epoch    GPU_mem   box_loss   obj_loss   cls_loss  Instances       Size\n",
            "      19/49      2.08G    0.04144   0.008135          0         33        416: 100% 94/94 [01:10<00:00,  1.33it/s]\n",
            "                 Class     Images  Instances          P          R      mAP50   mAP50-95: 100% 10/10 [00:06<00:00,  1.55it/s]\n",
            "                   all        300        405      0.877      0.795      0.837      0.507\n",
            "\n",
            "      Epoch    GPU_mem   box_loss   obj_loss   cls_loss  Instances       Size\n",
            "      20/49      2.08G    0.03972   0.007944          0         25        416: 100% 94/94 [01:11<00:00,  1.32it/s]\n",
            "                 Class     Images  Instances          P          R      mAP50   mAP50-95: 100% 10/10 [00:06<00:00,  1.61it/s]\n",
            "                   all        300        405      0.889      0.773      0.828      0.521\n",
            "\n",
            "      Epoch    GPU_mem   box_loss   obj_loss   cls_loss  Instances       Size\n",
            "      21/49      2.08G    0.03997   0.007806          0         28        416: 100% 94/94 [01:11<00:00,  1.32it/s]\n",
            "                 Class     Images  Instances          P          R      mAP50   mAP50-95: 100% 10/10 [00:06<00:00,  1.46it/s]\n",
            "                   all        300        405      0.907      0.799      0.852      0.515\n",
            "\n",
            "      Epoch    GPU_mem   box_loss   obj_loss   cls_loss  Instances       Size\n",
            "      22/49      2.08G    0.03918   0.007617          0         35        416: 100% 94/94 [01:10<00:00,  1.33it/s]\n",
            "                 Class     Images  Instances          P          R      mAP50   mAP50-95: 100% 10/10 [00:06<00:00,  1.58it/s]\n",
            "                   all        300        405      0.909      0.816      0.852      0.485\n",
            "\n",
            "      Epoch    GPU_mem   box_loss   obj_loss   cls_loss  Instances       Size\n",
            "      23/49      2.08G    0.03881   0.007839          0         23        416: 100% 94/94 [01:11<00:00,  1.32it/s]\n",
            "                 Class     Images  Instances          P          R      mAP50   mAP50-95: 100% 10/10 [00:06<00:00,  1.61it/s]\n",
            "                   all        300        405      0.906      0.793      0.846      0.527\n",
            "\n",
            "      Epoch    GPU_mem   box_loss   obj_loss   cls_loss  Instances       Size\n",
            "      24/49      2.08G    0.03854    0.00766          0         27        416: 100% 94/94 [01:10<00:00,  1.33it/s]\n",
            "                 Class     Images  Instances          P          R      mAP50   mAP50-95: 100% 10/10 [00:06<00:00,  1.56it/s]\n",
            "                   all        300        405        0.9      0.788      0.843      0.509\n",
            "\n",
            "      Epoch    GPU_mem   box_loss   obj_loss   cls_loss  Instances       Size\n",
            "      25/49      2.08G    0.03827   0.007647          0         37        416: 100% 94/94 [01:10<00:00,  1.32it/s]\n",
            "                 Class     Images  Instances          P          R      mAP50   mAP50-95: 100% 10/10 [00:06<00:00,  1.56it/s]\n",
            "                   all        300        405      0.894      0.827      0.863      0.542\n",
            "\n",
            "      Epoch    GPU_mem   box_loss   obj_loss   cls_loss  Instances       Size\n",
            "      26/49      2.08G    0.03721   0.007631          0         36        416: 100% 94/94 [01:11<00:00,  1.32it/s]\n",
            "                 Class     Images  Instances          P          R      mAP50   mAP50-95: 100% 10/10 [00:06<00:00,  1.57it/s]\n",
            "                   all        300        405      0.892      0.827      0.857      0.507\n",
            "\n",
            "      Epoch    GPU_mem   box_loss   obj_loss   cls_loss  Instances       Size\n",
            "      27/49      2.08G    0.03745   0.007405          0         22        416: 100% 94/94 [01:10<00:00,  1.33it/s]\n",
            "                 Class     Images  Instances          P          R      mAP50   mAP50-95: 100% 10/10 [00:06<00:00,  1.57it/s]\n",
            "                   all        300        405       0.94      0.795      0.868      0.516\n",
            "\n",
            "      Epoch    GPU_mem   box_loss   obj_loss   cls_loss  Instances       Size\n",
            "      28/49      2.08G    0.03694   0.007512          0         21        416: 100% 94/94 [01:10<00:00,  1.33it/s]\n",
            "                 Class     Images  Instances          P          R      mAP50   mAP50-95: 100% 10/10 [00:06<00:00,  1.56it/s]\n",
            "                   all        300        405      0.905      0.803      0.859      0.542\n",
            "\n",
            "      Epoch    GPU_mem   box_loss   obj_loss   cls_loss  Instances       Size\n",
            "      29/49      2.08G    0.03625   0.007504          0         41        416: 100% 94/94 [01:10<00:00,  1.33it/s]\n",
            "                 Class     Images  Instances          P          R      mAP50   mAP50-95: 100% 10/10 [00:06<00:00,  1.58it/s]\n",
            "                   all        300        405       0.91      0.798      0.862      0.518\n",
            "\n",
            "      Epoch    GPU_mem   box_loss   obj_loss   cls_loss  Instances       Size\n",
            "      30/49      2.08G    0.03638   0.007414          0         26        416: 100% 94/94 [01:10<00:00,  1.32it/s]\n",
            "                 Class     Images  Instances          P          R      mAP50   mAP50-95: 100% 10/10 [00:06<00:00,  1.49it/s]\n",
            "                   all        300        405       0.92      0.795      0.875      0.549\n",
            "\n",
            "      Epoch    GPU_mem   box_loss   obj_loss   cls_loss  Instances       Size\n",
            "      31/49      2.08G    0.03525   0.007285          0         29        416: 100% 94/94 [01:10<00:00,  1.33it/s]\n",
            "                 Class     Images  Instances          P          R      mAP50   mAP50-95: 100% 10/10 [00:06<00:00,  1.54it/s]\n",
            "                   all        300        405      0.906       0.82      0.869      0.538\n",
            "\n",
            "      Epoch    GPU_mem   box_loss   obj_loss   cls_loss  Instances       Size\n",
            "      32/49      2.08G    0.03511    0.00739          0         30        416: 100% 94/94 [01:11<00:00,  1.31it/s]\n",
            "                 Class     Images  Instances          P          R      mAP50   mAP50-95: 100% 10/10 [00:06<00:00,  1.60it/s]\n",
            "                   all        300        405      0.925      0.795      0.869      0.545\n",
            "\n",
            "      Epoch    GPU_mem   box_loss   obj_loss   cls_loss  Instances       Size\n",
            "      33/49      2.08G    0.03463   0.007205          0         30        416: 100% 94/94 [01:10<00:00,  1.33it/s]\n",
            "                 Class     Images  Instances          P          R      mAP50   mAP50-95: 100% 10/10 [00:06<00:00,  1.61it/s]\n",
            "                   all        300        405      0.884      0.849      0.874      0.524\n",
            "\n",
            "      Epoch    GPU_mem   box_loss   obj_loss   cls_loss  Instances       Size\n",
            "      34/49      2.08G     0.0344   0.007354          0         28        416: 100% 94/94 [01:10<00:00,  1.33it/s]\n",
            "                 Class     Images  Instances          P          R      mAP50   mAP50-95: 100% 10/10 [00:06<00:00,  1.57it/s]\n",
            "                   all        300        405       0.92      0.823      0.871      0.546\n",
            "\n",
            "      Epoch    GPU_mem   box_loss   obj_loss   cls_loss  Instances       Size\n",
            "      35/49      2.08G    0.03401   0.007317          0         33        416: 100% 94/94 [01:11<00:00,  1.31it/s]\n",
            "                 Class     Images  Instances          P          R      mAP50   mAP50-95: 100% 10/10 [00:06<00:00,  1.50it/s]\n",
            "                   all        300        405      0.892       0.83      0.875      0.525\n",
            "\n",
            "      Epoch    GPU_mem   box_loss   obj_loss   cls_loss  Instances       Size\n",
            "      36/49      2.08G    0.03419   0.007319          0         45        416: 100% 94/94 [01:11<00:00,  1.32it/s]\n",
            "                 Class     Images  Instances          P          R      mAP50   mAP50-95: 100% 10/10 [00:06<00:00,  1.60it/s]\n",
            "                   all        300        405      0.891      0.825      0.863      0.511\n",
            "\n",
            "      Epoch    GPU_mem   box_loss   obj_loss   cls_loss  Instances       Size\n",
            "      37/49      2.08G    0.03393    0.00729          0         31        416: 100% 94/94 [01:10<00:00,  1.32it/s]\n",
            "                 Class     Images  Instances          P          R      mAP50   mAP50-95: 100% 10/10 [00:06<00:00,  1.63it/s]\n",
            "                   all        300        405      0.928      0.832      0.879      0.547\n",
            "\n",
            "      Epoch    GPU_mem   box_loss   obj_loss   cls_loss  Instances       Size\n",
            "      38/49      2.08G    0.03319    0.00713          0         32        416: 100% 94/94 [01:11<00:00,  1.32it/s]\n",
            "                 Class     Images  Instances          P          R      mAP50   mAP50-95: 100% 10/10 [00:06<00:00,  1.65it/s]\n",
            "                   all        300        405      0.946      0.795      0.874       0.55\n",
            "\n",
            "      Epoch    GPU_mem   box_loss   obj_loss   cls_loss  Instances       Size\n",
            "      39/49      2.08G    0.03262    0.00692          0         26        416: 100% 94/94 [01:10<00:00,  1.34it/s]\n",
            "                 Class     Images  Instances          P          R      mAP50   mAP50-95: 100% 10/10 [00:06<00:00,  1.46it/s]\n",
            "                   all        300        405      0.938      0.823      0.881      0.526\n",
            "\n",
            "      Epoch    GPU_mem   box_loss   obj_loss   cls_loss  Instances       Size\n",
            "      40/49      2.08G    0.03325   0.007404          0         30        416: 100% 94/94 [01:10<00:00,  1.34it/s]\n",
            "                 Class     Images  Instances          P          R      mAP50   mAP50-95: 100% 10/10 [00:06<00:00,  1.51it/s]\n",
            "                   all        300        405      0.925      0.827      0.873      0.526\n",
            "\n",
            "      Epoch    GPU_mem   box_loss   obj_loss   cls_loss  Instances       Size\n",
            "      41/49      2.08G    0.03188   0.007114          0         26        416: 100% 94/94 [01:10<00:00,  1.33it/s]\n",
            "                 Class     Images  Instances          P          R      mAP50   mAP50-95: 100% 10/10 [00:06<00:00,  1.55it/s]\n",
            "                   all        300        405      0.922      0.819      0.878      0.566\n",
            "\n",
            "      Epoch    GPU_mem   box_loss   obj_loss   cls_loss  Instances       Size\n",
            "      42/49      2.08G    0.03108   0.006849          0         29        416: 100% 94/94 [01:10<00:00,  1.33it/s]\n",
            "                 Class     Images  Instances          P          R      mAP50   mAP50-95: 100% 10/10 [00:06<00:00,  1.64it/s]\n",
            "                   all        300        405      0.956      0.801       0.88      0.546\n",
            "\n",
            "      Epoch    GPU_mem   box_loss   obj_loss   cls_loss  Instances       Size\n",
            "      43/49      2.08G    0.03194   0.006937          0         33        416: 100% 94/94 [01:10<00:00,  1.32it/s]\n",
            "                 Class     Images  Instances          P          R      mAP50   mAP50-95: 100% 10/10 [00:06<00:00,  1.60it/s]\n",
            "                   all        300        405       0.94      0.811      0.876       0.56\n",
            "\n",
            "      Epoch    GPU_mem   box_loss   obj_loss   cls_loss  Instances       Size\n",
            "      44/49      2.08G    0.03129   0.006782          0         26        416: 100% 94/94 [01:10<00:00,  1.33it/s]\n",
            "                 Class     Images  Instances          P          R      mAP50   mAP50-95: 100% 10/10 [00:06<00:00,  1.59it/s]\n",
            "                   all        300        405      0.932      0.815      0.878      0.542\n",
            "\n",
            "      Epoch    GPU_mem   box_loss   obj_loss   cls_loss  Instances       Size\n",
            "      45/49      2.08G    0.03057   0.006887          0         19        416: 100% 94/94 [01:10<00:00,  1.33it/s]\n",
            "                 Class     Images  Instances          P          R      mAP50   mAP50-95: 100% 10/10 [00:06<00:00,  1.58it/s]\n",
            "                   all        300        405      0.907      0.844      0.878      0.558\n",
            "\n",
            "      Epoch    GPU_mem   box_loss   obj_loss   cls_loss  Instances       Size\n",
            "      46/49      2.08G    0.03039   0.006777          0         27        416: 100% 94/94 [01:10<00:00,  1.33it/s]\n",
            "                 Class     Images  Instances          P          R      mAP50   mAP50-95: 100% 10/10 [00:06<00:00,  1.60it/s]\n",
            "                   all        300        405      0.932      0.835      0.885      0.544\n",
            "\n",
            "      Epoch    GPU_mem   box_loss   obj_loss   cls_loss  Instances       Size\n",
            "      47/49      2.08G    0.03041    0.00676          0         33        416: 100% 94/94 [01:10<00:00,  1.34it/s]\n",
            "                 Class     Images  Instances          P          R      mAP50   mAP50-95: 100% 10/10 [00:06<00:00,  1.46it/s]\n",
            "                   all        300        405      0.924       0.83      0.878      0.544\n",
            "\n",
            "      Epoch    GPU_mem   box_loss   obj_loss   cls_loss  Instances       Size\n",
            "      48/49      2.08G    0.03016   0.006812          0         29        416: 100% 94/94 [01:10<00:00,  1.33it/s]\n",
            "                 Class     Images  Instances          P          R      mAP50   mAP50-95: 100% 10/10 [00:06<00:00,  1.54it/s]\n",
            "                   all        300        405      0.931      0.828      0.885      0.551\n",
            "\n",
            "      Epoch    GPU_mem   box_loss   obj_loss   cls_loss  Instances       Size\n",
            "      49/49      2.08G    0.03062   0.006837          0         25        416: 100% 94/94 [01:10<00:00,  1.34it/s]\n",
            "                 Class     Images  Instances          P          R      mAP50   mAP50-95: 100% 10/10 [00:06<00:00,  1.51it/s]\n",
            "                   all        300        405       0.92      0.822       0.88      0.559\n",
            "\n",
            "50 epochs completed in 1.091 hours.\n",
            "Optimizer stripped from runs/train/exp/weights/last.pt, 14.3MB\n",
            "Optimizer stripped from runs/train/exp/weights/best.pt, 14.3MB\n",
            "\n",
            "Validating runs/train/exp/weights/best.pt...\n",
            "Fusing layers... \n",
            "Model summary: 157 layers, 7012822 parameters, 0 gradients\n",
            "                 Class     Images  Instances          P          R      mAP50   mAP50-95: 100% 10/10 [00:05<00:00,  1.68it/s]\n",
            "                   all        300        405      0.922       0.82       0.88      0.565\n",
            "Results saved to \u001b[1mruns/train/exp\u001b[0m\n"
          ]
        }
      ]
    },
    {
      "cell_type": "markdown",
      "source": [
        "## After restart runtime"
      ],
      "metadata": {
        "id": "j2Cw2qn0mDQS"
      }
    },
    {
      "cell_type": "code",
      "source": [
        "# cd yolov5"
      ],
      "metadata": {
        "colab": {
          "base_uri": "https://localhost:8080/"
        },
        "id": "SZyibPKJbgVw",
        "outputId": "43537cbd-269d-4d09-b121-d1a6510ec1fc"
      },
      "execution_count": null,
      "outputs": [
        {
          "output_type": "stream",
          "name": "stdout",
          "text": [
            "/content/Global-Wheat-Detection-YOLO/yolov5\n"
          ]
        }
      ]
    },
    {
      "cell_type": "code",
      "source": [
        "# !python train.py --img 1024 --batch 16  --epochs 20 --data helmet.yaml "
      ],
      "metadata": {
        "id": "UlKBzlY0lSfc"
      },
      "execution_count": null,
      "outputs": []
    },
    {
      "cell_type": "markdown",
      "source": [
        "# Save the files"
      ],
      "metadata": {
        "id": "FJKhqJx7-wMW"
      }
    },
    {
      "cell_type": "code",
      "source": [
        "from google.colab import drive\n",
        "drive.mount('/content/drive')"
      ],
      "metadata": {
        "colab": {
          "base_uri": "https://localhost:8080/"
        },
        "id": "lzMY7Za_NHyq",
        "outputId": "9768b1a8-179d-4eb9-81fd-d6852b6ea892"
      },
      "execution_count": 13,
      "outputs": [
        {
          "output_type": "stream",
          "name": "stdout",
          "text": [
            "Mounted at /content/drive\n"
          ]
        }
      ]
    },
    {
      "cell_type": "code",
      "source": [
        "ls /content/drive/MyDrive/ALPR/"
      ],
      "metadata": {
        "id": "K67H2FllNhlk"
      },
      "execution_count": 20,
      "outputs": []
    },
    {
      "cell_type": "code",
      "source": [
        "!cp -r /content/yolov5 /content/drive/MyDrive/ALPR/"
      ],
      "metadata": {
        "id": "knSJXrOM-yVP"
      },
      "execution_count": 23,
      "outputs": []
    },
    {
      "cell_type": "markdown",
      "source": [
        "# Prediction"
      ],
      "metadata": {
        "id": "dAP_Jy2Bc547"
      }
    },
    {
      "cell_type": "code",
      "source": [
        "!cp /content/yolov5/runs/train/exp/weights/best.pt ."
      ],
      "metadata": {
        "id": "wRsi0MRHAHln"
      },
      "execution_count": 29,
      "outputs": []
    },
    {
      "cell_type": "code",
      "source": [
        "ls /content/"
      ],
      "metadata": {
        "id": "1jQGKIYjO79p",
        "outputId": "a7811eec-729a-4156-caf4-8cadecd8046e",
        "colab": {
          "base_uri": "https://localhost:8080/"
        }
      },
      "execution_count": 30,
      "outputs": [
        {
          "output_type": "stream",
          "name": "stdout",
          "text": [
            "automatic-license-plate-recognition-alpr.zip  \u001b[0m\u001b[01;34mdrive\u001b[0m/        \u001b[01;34myolov5\u001b[0m/\n",
            "\u001b[01;34mDataset\u001b[0m/                                      kaggle.json\n",
            "download.jpeg                                 \u001b[01;34msample_data\u001b[0m/\n"
          ]
        }
      ]
    },
    {
      "cell_type": "code",
      "source": [
        "!python detect.py --source /content/download.jpeg --weights best.pt"
      ],
      "metadata": {
        "colab": {
          "base_uri": "https://localhost:8080/"
        },
        "id": "cN0Df0Ykc8N8",
        "outputId": "f0cb5b1a-0363-4899-b5ef-f3848f7bf51c"
      },
      "execution_count": 31,
      "outputs": [
        {
          "output_type": "stream",
          "name": "stdout",
          "text": [
            "\u001b[34m\u001b[1mdetect: \u001b[0mweights=['best.pt'], source=/content/download.jpeg, data=data/coco128.yaml, imgsz=[640, 640], conf_thres=0.25, iou_thres=0.45, max_det=1000, device=, view_img=False, save_txt=False, save_conf=False, save_crop=False, nosave=False, classes=None, agnostic_nms=False, augment=False, visualize=False, update=False, project=runs/detect, name=exp, exist_ok=False, line_thickness=3, hide_labels=False, hide_conf=False, half=False, dnn=False, vid_stride=1\n",
            "YOLOv5 🚀 v6.2-187-g5ef69ef Python-3.7.14 torch-1.12.1+cu113 CUDA:0 (Tesla T4, 15110MiB)\n",
            "\n",
            "Fusing layers... \n",
            "Model summary: 157 layers, 7012822 parameters, 0 gradients, 15.8 GFLOPs\n",
            "image 1/1 /content/download.jpeg: 480x640 1 licence plate, 11.5ms\n",
            "Speed: 0.5ms pre-process, 11.5ms inference, 1.3ms NMS per image at shape (1, 3, 640, 640)\n",
            "Results saved to \u001b[1mruns/detect/exp2\u001b[0m\n"
          ]
        }
      ]
    },
    {
      "cell_type": "markdown",
      "source": [
        "## Results"
      ],
      "metadata": {
        "id": "rqPdtC8LeDf8"
      }
    },
    {
      "cell_type": "code",
      "source": [
        "from IPython.display import Image"
      ],
      "metadata": {
        "id": "BgZ7dLjBnhjY"
      },
      "execution_count": 33,
      "outputs": []
    },
    {
      "cell_type": "code",
      "source": [
        "Image(filename='/content/yolov5/runs/detect/exp2/download.jpeg') "
      ],
      "metadata": {
        "id": "siMjJ62kno5K",
        "outputId": "645d4726-7037-42c4-cc97-66e940495098",
        "colab": {
          "base_uri": "https://localhost:8080/",
          "height": 211
        }
      },
      "execution_count": 34,
      "outputs": [
        {
          "output_type": "execute_result",
          "data": {
            "image/jpeg": "[encoded data removed]",
            "text/plain": [
              "<IPython.core.display.Image object>"
            ]
          },
          "metadata": {},
          "execution_count": 34
        }
      ]
    },
    {
      "cell_type": "code",
      "source": [
        "# !python detect.py --source \"https://www.youtube.com/watch?v=6PoPwZ0WO9w\" --weights best.pt"
      ],
      "metadata": {
        "id": "83_mlL4DBH6e"
      },
      "execution_count": 35,
      "outputs": []
    },
    {
      "cell_type": "code",
      "source": [],
      "metadata": {
        "id": "Tb97P0qYBSIT"
      },
      "execution_count": null,
      "outputs": []
    }
  ]
}